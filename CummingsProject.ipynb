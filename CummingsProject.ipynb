{
  "nbformat": 4,
  "nbformat_minor": 0,
  "metadata": {
    "colab": {
      "provenance": []
    },
    "kernelspec": {
      "name": "python3",
      "display_name": "Python 3"
    },
    "language_info": {
      "name": "python"
    }
  },
  "cells": [
    {
      "cell_type": "code",
      "source": [
        "import pandas as pd\n",
        "\n",
        "\n",
        "features = pd.read_csv(\"https://raw.githubusercontent.com/Nitipatel1604/CummingsAssignment/main/features.csv\")\n",
        "train = pd.read_csv(\"https://raw.githubusercontent.com/Nitipatel1604/CummingsAssignment/main/train.csv\")\n",
        "stores = pd.read_csv(\"https://raw.githubusercontent.com/Nitipatel1604/CummingsAssignment/main/stores.csv\")"
      ],
      "metadata": {
        "id": "_z2E7zZaS860"
      },
      "execution_count": 1,
      "outputs": []
    },
    {
      "cell_type": "code",
      "source": [
        "print(stores)"
      ],
      "metadata": {
        "id": "Uy3gOzeBTAYT",
        "colab": {
          "base_uri": "https://localhost:8080/"
        },
        "outputId": "e42e2a3f-15b2-433e-8671-4829c6912be4"
      },
      "execution_count": 2,
      "outputs": [
        {
          "output_type": "stream",
          "name": "stdout",
          "text": [
            "    Store Type    Size\n",
            "0       1    A  151315\n",
            "1       2    A  202307\n",
            "2       3    B   37392\n",
            "3       4    A  205863\n",
            "4       5    B   34875\n",
            "5       6    A  202505\n",
            "6       7    B   70713\n",
            "7       8    A  155078\n",
            "8       9    B  125833\n",
            "9      10    B  126512\n",
            "10     11    A  207499\n",
            "11     12    B  112238\n",
            "12     13    A  219622\n",
            "13     14    A  200898\n",
            "14     15    B  123737\n",
            "15     16    B   57197\n",
            "16     17    B   93188\n",
            "17     18    B  120653\n",
            "18     19    A  203819\n",
            "19     20    A  203742\n",
            "20     21    B  140167\n",
            "21     22    B  119557\n",
            "22     23    B  114533\n",
            "23     24    A  203819\n",
            "24     25    B  128107\n",
            "25     26    A  152513\n",
            "26     27    A  204184\n",
            "27     28    A  206302\n",
            "28     29    B   93638\n",
            "29     30    C   42988\n",
            "30     31    A  203750\n",
            "31     32    A  203007\n",
            "32     33    A   39690\n",
            "33     34    A  158114\n",
            "34     35    B  103681\n",
            "35     36    A   39910\n",
            "36     37    C   39910\n",
            "37     38    C   39690\n",
            "38     39    A  184109\n",
            "39     40    A  155083\n",
            "40     41    A  196321\n",
            "41     42    C   39690\n",
            "42     43    C   41062\n",
            "43     44    C   39910\n",
            "44     45    B  118221\n"
          ]
        }
      ]
    },
    {
      "cell_type": "code",
      "source": [
        "print(train)"
      ],
      "metadata": {
        "id": "EeR5meKXTA0i",
        "colab": {
          "base_uri": "https://localhost:8080/"
        },
        "outputId": "942cdba0-09c5-4ace-d9ba-fe5bfa487fe9"
      },
      "execution_count": 3,
      "outputs": [
        {
          "output_type": "stream",
          "name": "stdout",
          "text": [
            "        Store  Dept        Date  Weekly_Sales  IsHoliday\n",
            "0           1     1  2010-02-05      24924.50      False\n",
            "1           1     1  2010-02-12      46039.49       True\n",
            "2           1     1  2010-02-19      41595.55      False\n",
            "3           1     1  2010-02-26      19403.54      False\n",
            "4           1     1  2010-03-05      21827.90      False\n",
            "...       ...   ...         ...           ...        ...\n",
            "421565     45    98  2012-09-28        508.37      False\n",
            "421566     45    98  2012-10-05        628.10      False\n",
            "421567     45    98  2012-10-12       1061.02      False\n",
            "421568     45    98  2012-10-19        760.01      False\n",
            "421569     45    98  2012-10-26       1076.80      False\n",
            "\n",
            "[421570 rows x 5 columns]\n"
          ]
        }
      ]
    },
    {
      "cell_type": "code",
      "source": [
        "merged = pd.merge(train, features,  how='left', left_on=['Store','Date','IsHoliday'], right_on = ['Store','Date','IsHoliday'])\n",
        "print(merged)"
      ],
      "metadata": {
        "id": "skCvOB95TCCk",
        "colab": {
          "base_uri": "https://localhost:8080/"
        },
        "outputId": "500b384c-629f-4d8c-ed02-4095a0f92779"
      },
      "execution_count": 4,
      "outputs": [
        {
          "output_type": "stream",
          "name": "stdout",
          "text": [
            "        Store  Dept        Date  Weekly_Sales  IsHoliday  Temperature  \\\n",
            "0           1     1  2010-02-05      24924.50      False        42.31   \n",
            "1           1     1  2010-02-12      46039.49       True        38.51   \n",
            "2           1     1  2010-02-19      41595.55      False        39.93   \n",
            "3           1     1  2010-02-26      19403.54      False        46.63   \n",
            "4           1     1  2010-03-05      21827.90      False        46.50   \n",
            "...       ...   ...         ...           ...        ...          ...   \n",
            "421565     45    98  2012-09-28        508.37      False        64.88   \n",
            "421566     45    98  2012-10-05        628.10      False        64.89   \n",
            "421567     45    98  2012-10-12       1061.02      False        54.47   \n",
            "421568     45    98  2012-10-19        760.01      False        56.47   \n",
            "421569     45    98  2012-10-26       1076.80      False        58.85   \n",
            "\n",
            "        Fuel_Price  MarkDown1  MarkDown2  MarkDown3  MarkDown4  MarkDown5  \\\n",
            "0            2.572        NaN        NaN        NaN        NaN        NaN   \n",
            "1            2.548        NaN        NaN        NaN        NaN        NaN   \n",
            "2            2.514        NaN        NaN        NaN        NaN        NaN   \n",
            "3            2.561        NaN        NaN        NaN        NaN        NaN   \n",
            "4            2.625        NaN        NaN        NaN        NaN        NaN   \n",
            "...            ...        ...        ...        ...        ...        ...   \n",
            "421565       3.997    4556.61      20.64       1.50    1601.01    3288.25   \n",
            "421566       3.985    5046.74        NaN      18.82    2253.43    2340.01   \n",
            "421567       4.000    1956.28        NaN       7.89     599.32    3990.54   \n",
            "421568       3.969    2004.02        NaN       3.18     437.73    1537.49   \n",
            "421569       3.882    4018.91      58.08     100.00     211.94     858.33   \n",
            "\n",
            "               CPI  Unemployment  \n",
            "0       211.096358         8.106  \n",
            "1       211.242170         8.106  \n",
            "2       211.289143         8.106  \n",
            "3       211.319643         8.106  \n",
            "4       211.350143         8.106  \n",
            "...            ...           ...  \n",
            "421565  192.013558         8.684  \n",
            "421566  192.170412         8.667  \n",
            "421567  192.327265         8.667  \n",
            "421568  192.330854         8.667  \n",
            "421569  192.308899         8.667  \n",
            "\n",
            "[421570 rows x 14 columns]\n"
          ]
        }
      ]
    },
    {
      "cell_type": "code",
      "source": [
        "merged = pd.merge(merged, stores,  how='left', left_on=['Store'], right_on = ['Store'])\n",
        "print(merged)\n"
      ],
      "metadata": {
        "id": "oKdg_5_Flfox",
        "colab": {
          "base_uri": "https://localhost:8080/"
        },
        "outputId": "eddc715a-80ce-4227-9ae1-cffc59fcf13f"
      },
      "execution_count": 5,
      "outputs": [
        {
          "output_type": "stream",
          "name": "stdout",
          "text": [
            "        Store  Dept        Date  Weekly_Sales  IsHoliday  Temperature  \\\n",
            "0           1     1  2010-02-05      24924.50      False        42.31   \n",
            "1           1     1  2010-02-12      46039.49       True        38.51   \n",
            "2           1     1  2010-02-19      41595.55      False        39.93   \n",
            "3           1     1  2010-02-26      19403.54      False        46.63   \n",
            "4           1     1  2010-03-05      21827.90      False        46.50   \n",
            "...       ...   ...         ...           ...        ...          ...   \n",
            "421565     45    98  2012-09-28        508.37      False        64.88   \n",
            "421566     45    98  2012-10-05        628.10      False        64.89   \n",
            "421567     45    98  2012-10-12       1061.02      False        54.47   \n",
            "421568     45    98  2012-10-19        760.01      False        56.47   \n",
            "421569     45    98  2012-10-26       1076.80      False        58.85   \n",
            "\n",
            "        Fuel_Price  MarkDown1  MarkDown2  MarkDown3  MarkDown4  MarkDown5  \\\n",
            "0            2.572        NaN        NaN        NaN        NaN        NaN   \n",
            "1            2.548        NaN        NaN        NaN        NaN        NaN   \n",
            "2            2.514        NaN        NaN        NaN        NaN        NaN   \n",
            "3            2.561        NaN        NaN        NaN        NaN        NaN   \n",
            "4            2.625        NaN        NaN        NaN        NaN        NaN   \n",
            "...            ...        ...        ...        ...        ...        ...   \n",
            "421565       3.997    4556.61      20.64       1.50    1601.01    3288.25   \n",
            "421566       3.985    5046.74        NaN      18.82    2253.43    2340.01   \n",
            "421567       4.000    1956.28        NaN       7.89     599.32    3990.54   \n",
            "421568       3.969    2004.02        NaN       3.18     437.73    1537.49   \n",
            "421569       3.882    4018.91      58.08     100.00     211.94     858.33   \n",
            "\n",
            "               CPI  Unemployment Type    Size  \n",
            "0       211.096358         8.106    A  151315  \n",
            "1       211.242170         8.106    A  151315  \n",
            "2       211.289143         8.106    A  151315  \n",
            "3       211.319643         8.106    A  151315  \n",
            "4       211.350143         8.106    A  151315  \n",
            "...            ...           ...  ...     ...  \n",
            "421565  192.013558         8.684    B  118221  \n",
            "421566  192.170412         8.667    B  118221  \n",
            "421567  192.327265         8.667    B  118221  \n",
            "421568  192.330854         8.667    B  118221  \n",
            "421569  192.308899         8.667    B  118221  \n",
            "\n",
            "[421570 rows x 16 columns]\n"
          ]
        }
      ]
    },
    {
      "cell_type": "code",
      "source": [
        "merged.to_csv(\"Merged.csv\")"
      ],
      "metadata": {
        "id": "6mzKGi4kb2UA"
      },
      "execution_count": 8,
      "outputs": []
    }
  ]
}